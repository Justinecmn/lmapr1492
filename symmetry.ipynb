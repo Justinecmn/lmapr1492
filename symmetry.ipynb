{
 "cells": [
  {
   "cell_type": "code",
   "execution_count": 77,
   "id": "dd965bd4",
   "metadata": {},
   "outputs": [
    {
     "data": {
      "application/vnd.jupyter.widget-view+json": {
       "model_id": "5b81dc6c1c6346cc8ee6de95dfcc87bb",
       "version_major": 2,
       "version_minor": 0
      },
      "text/plain": [
       "JsmolView(layout=Layout(align_self='stretch', height='400px'))"
      ]
     },
     "metadata": {},
     "output_type": "display_data"
    }
   ],
   "source": [
    "from pymatgen.ext.matproj import MPRester\n",
    "from pymatgen.ext.matproj import SpacegroupAnalyzer \n",
    "from pymatgen.core.operations import SymmOp\n",
    "from jupyter_jsmol.pymatgen import quick_view\n",
    "with MPRester (\"v1d7ZHuxlIRyoKmi\") as m:\n",
    "    \n",
    "    #Création de la structure du cristal à partir du MP\n",
    "    structure = m.get_structure_by_material_id(\"mp-961685\")\n",
    "    \n",
    "# SpacegroupAnalyzer object for the primitive standard structure\n",
    "struct = SpacegroupAnalyzer(structure)\n",
    "struct_conv = struct.get_conventional_standard_structure()\n",
    "    \n",
    "#récupération de la structure conventionnel qui correspond à la maille du fichier CIF symmetrized\n",
    "struct_analyze = SpacegroupAnalyzer(struct_conv)\n",
    "\n",
    "#représentation de la structure avec l'identité \n",
    "view = quick_view(struct_conv)\n",
    "display(view)\n",
    "view.script('draw symop 1 {atomno = 1}; select atomno=1; label on; color red')\n",
    "    \n",
    "\n",
    "    \n",
    "    "
   ]
  },
  {
   "cell_type": "code",
   "execution_count": 78,
   "id": "cb85b005",
   "metadata": {},
   "outputs": [
    {
     "name": "stdout",
     "output_type": "stream",
     "text": [
      "Voici tous les sites ou se trouve les atomes de la maille\n",
      " [PeriodicSite: Na (3.4841, 0.0000, 0.0000) [0.5000, 0.0000, 0.0000], PeriodicSite: Na (3.4841, 3.4841, 3.4841) [0.5000, 0.5000, 0.5000], PeriodicSite: Na (0.0000, 0.0000, 3.4841) [0.0000, 0.0000, 0.5000], PeriodicSite: Na (0.0000, 3.4841, 0.0000) [0.0000, 0.5000, 0.0000], PeriodicSite: Ca (0.0000, 0.0000, 0.0000) [0.0000, 0.0000, 0.0000], PeriodicSite: Ca (0.0000, 3.4841, 3.4841) [0.0000, 0.5000, 0.5000], PeriodicSite: Ca (3.4841, 0.0000, 3.4841) [0.5000, 0.0000, 0.5000], PeriodicSite: Ca (3.4841, 3.4841, 0.0000) [0.5000, 0.5000, 0.0000], PeriodicSite: As (1.7420, 1.7420, 5.2261) [0.2500, 0.2500, 0.7500], PeriodicSite: As (1.7420, 5.2261, 1.7420) [0.2500, 0.7500, 0.2500], PeriodicSite: As (5.2261, 1.7420, 1.7420) [0.7500, 0.2500, 0.2500], PeriodicSite: As (5.2261, 5.2261, 5.2261) [0.7500, 0.7500, 0.7500]]\n",
      "\n",
      "Voici 3 opération de symétrie que j'ai choisi:\n",
      "1.\n",
      " Rot:\n",
      "[[-1.  0.  0.]\n",
      " [ 0. -1.  0.]\n",
      " [ 0.  0.  1.]]\n",
      "tau\n",
      "[0. 0. 0.]\n",
      " \n",
      "2.\n",
      " Rot:\n",
      "[[ 1.  0.  0.]\n",
      " [ 0. -1.  0.]\n",
      " [ 0.  0. -1.]]\n",
      "tau\n",
      "[0. 0. 0.]\n",
      " \n",
      "3.\n",
      " Rot:\n",
      "[[ 0.  0. -1.]\n",
      " [ 0.  1.  0.]\n",
      " [-1.  0.  0.]]\n",
      "tau\n",
      "[0. 0. 0.]\n"
     ]
    }
   ],
   "source": [
    "#récupération des sites d'atome dans la maille cristalline\n",
    "sites = struct_conv.sites \n",
    "print(\"Voici tous les sites ou se trouve les atomes de la maille\\n\",sites)\n",
    "\n",
    "\n",
    "\n",
    "# récupération des opération de symmétrie\n",
    "sym_op = struct_analyze.get_symmetry_operations()\n",
    "print(\"\\nVoici 3 opération de symétrie que j'ai choisi:\")\n",
    "print(\"1.\\n\",sym_op[2])\n",
    "print(\" \")\n",
    "print(\"2.\\n\",sym_op[4])\n",
    "print(\" \")\n",
    "print(\"3.\\n\",sym_op[9])\n",
    "\n"
   ]
  },
  {
   "cell_type": "code",
   "execution_count": 79,
   "id": "a5559b90",
   "metadata": {},
   "outputs": [
    {
     "name": "stdout",
     "output_type": "stream",
     "text": [
      "Mon premier element de symetrie:\n",
      "Rot:\n",
      "[[-1.  0.  0.]\n",
      " [ 0. -1.  0.]\n",
      " [ 0.  0.  1.]]\n",
      "tau\n",
      "[0. 0. 0.] \n",
      "\n",
      "Effet de l'axe de rotation sur l'atome NA situé en [0.5000, 0.0000, 0.0000] : \n",
      "Position initial de l'atome de Na : [0.5000, 0.0000, 0.0000]\n",
      "Position de l'atome de Na après la symétire: [-0.5  0.   0. ]\n"
     ]
    },
    {
     "data": {
      "application/vnd.jupyter.widget-view+json": {
       "model_id": "1f47d1ad08314c99899f92dd9e00e1a1",
       "version_major": 2,
       "version_minor": 0
      },
      "text/plain": [
       "JsmolView(layout=Layout(align_self='stretch', height='400px'))"
      ]
     },
     "metadata": {},
     "output_type": "display_data"
    }
   ],
   "source": [
    "print(\"Mon premier element de symetrie:\")\n",
    "print(sym_op[2],\"\\n\")\n",
    "\n",
    "print(\"Effet de l'axe de rotation sur l'atome NA situé en [0.5000, 0.0000, 0.0000] : \")\n",
    "operation_1 = sym_op[2].operate([0.5000, 0.0000, 0.0000])\n",
    "print(\"Position initial de l'atome de Na : [0.5000, 0.0000, 0.0000]\")\n",
    "print(\"Position de l'atome de Na après la symétrie:\",operation_1)\n",
    "\n",
    "#Affiche du cristal\n",
    "#Représentation selon jupyter-jsmol\n",
    "view = quick_view(struct_conv,supercell=[1,1,1])\n",
    "display(view)\n",
    "view.script('draw symop 3 {atomno = 2}; select atomno=2; label on; color red')"
   ]
  },
  {
   "cell_type": "code",
   "execution_count": 80,
   "id": "46dc3b53",
   "metadata": {},
   "outputs": [
    {
     "name": "stdout",
     "output_type": "stream",
     "text": [
      "Mon deuxieme element de symetrie\n",
      "Rot:\n",
      "[[ 1.  0.  0.]\n",
      " [ 0. -1.  0.]\n",
      " [ 0.  0. -1.]]\n",
      "tau\n",
      "[0. 0. 0.] \n",
      "\n",
      "Effet de l'axe de rotation sur l'atome Ca situé en [0.0000, 0.5000, 0.5000] : \n",
      "Position initial de l'atome de Ca : [0.0000, 0.5000, 0.5000]\n",
      "Position de l'atome de Ca après l'opération: [ 0.  -0.5 -0.5]\n"
     ]
    },
    {
     "data": {
      "application/vnd.jupyter.widget-view+json": {
       "model_id": "1cce1180020f48ee9361ec42e0e2be46",
       "version_major": 2,
       "version_minor": 0
      },
      "text/plain": [
       "JsmolView(layout=Layout(align_self='stretch', height='400px'))"
      ]
     },
     "metadata": {},
     "output_type": "display_data"
    }
   ],
   "source": [
    "print(\"Mon deuxieme element de symetrie\")\n",
    "\n",
    "print(sym_op[4],\"\\n\")\n",
    "\n",
    "print(\"Effet de l'axe de rotation sur l'atome Ca situé en [0.0000, 0.5000, 0.5000] : \")\n",
    "\n",
    "\n",
    "operation_2 = sym_op[4].operate([0.0000, 0.5000, 0.5000])\n",
    "\n",
    "print(\"Position initial de l'atome de Ca : [0.0000, 0.5000, 0.5000]\")\n",
    "print(\"Position de l'atome de Ca après l'opération:\",operation_2)\n",
    "\n",
    "\n",
    "#Affiche du cristal\n",
    "view = quick_view(struct_conv)\n",
    "display(view)\n",
    "view.script('draw symop 5 {atomno = 2}; select atomno=2; label on; color red')\n"
   ]
  },
  {
   "cell_type": "code",
   "execution_count": 81,
   "id": "e221e0eb",
   "metadata": {},
   "outputs": [
    {
     "name": "stdout",
     "output_type": "stream",
     "text": [
      "Mon troisième element de symetrie\n",
      "Rot:\n",
      "[[ 0.  0. -1.]\n",
      " [ 0.  1.  0.]\n",
      " [-1.  0.  0.]]\n",
      "tau\n",
      "[0. 0. 0.] \n",
      "\n",
      "Effet de l'axe de rotation sur l'atome As situé en [0.2500, 0.7500, 0.2500] : \n",
      "Position initial de l'atome de As : [0.2500, 0.7500, 0.2500]\n",
      "Position de l'atome de As après l'opération: [-0.25  0.75 -0.25]\n"
     ]
    },
    {
     "data": {
      "application/vnd.jupyter.widget-view+json": {
       "model_id": "a50065d5d83c48b1872f453bbd2891c7",
       "version_major": 2,
       "version_minor": 0
      },
      "text/plain": [
       "JsmolView(layout=Layout(align_self='stretch', height='400px'))"
      ]
     },
     "metadata": {},
     "output_type": "display_data"
    }
   ],
   "source": [
    "print(\"Mon troisième element de symetrie\")\n",
    "\n",
    "print(sym_op[9],\"\\n\")\n",
    "\n",
    "print(\"Effet de l'axe de rotation sur l'atome As situé en [0.2500, 0.7500, 0.2500] : \")\n",
    "#print(sites[1])\n",
    "\n",
    "operation_3 = sym_op[9].operate([0.2500, 0.7500, 0.2500])\n",
    "\n",
    "print(\"Position initial de l'atome de As : [0.2500, 0.7500, 0.2500]\")\n",
    "print(\"Position de l'atome de As après l'opération:\",operation_3)\n",
    "\n",
    "#Affiche du cristal\n",
    "view = quick_view(struct_conv)\n",
    "display(view)\n",
    "view.script('draw symop 10 {atomno = 3}; select atomno=3; label on; color red')\n"
   ]
  }
 ],
 "metadata": {
  "kernelspec": {
   "display_name": "Python 3",
   "language": "python",
   "name": "python3"
  },
  "language_info": {
   "codemirror_mode": {
    "name": "ipython",
    "version": 3
   },
   "file_extension": ".py",
   "mimetype": "text/x-python",
   "name": "python",
   "nbconvert_exporter": "python",
   "pygments_lexer": "ipython3",
   "version": "3.6.8"
  }
 },
 "nbformat": 4,
 "nbformat_minor": 5
}
