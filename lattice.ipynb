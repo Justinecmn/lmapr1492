{
 "cells": [
  {
   "cell_type": "code",
   "execution_count": 98,
   "id": "3fd015a2",
   "metadata": {},
   "outputs": [],
   "source": [
    "from pymatgen.ext.matproj import MPRester\n",
    "from pymatgen.symmetry.analyzer import SpacegroupAnalyzer\n",
    "\n",
    "with MPRester (\"v1d7ZHuxlIRyoKmi\") as m:\n",
    "    \n",
    "    #Création de la structure du cristal à partir du MP\n",
    "    structure = m.get_structure_by_material_id(\"mp-961685\")"
   ]
  },
  {
   "cell_type": "code",
   "execution_count": 99,
   "id": "61beff57",
   "metadata": {},
   "outputs": [
    {
     "name": "stdout",
     "output_type": "stream",
     "text": [
      "Vecteurs de bases du réseau direct :\n",
      "\n",
      "a =  [0.       3.484055 3.484055]\n",
      "b =  [3.484055 0.       3.484055]\n",
      "c =  [3.484055 3.484055 0.      ] \n",
      "\n",
      "Longueurs:\n",
      "\n",
      "|a| =  4.9271978330537936 Å \n",
      "|b| =  4.9271978330537936 Å \n",
      "|c| =  4.9271978330537936 Å\n",
      "\n",
      "Angles :\n",
      "\n",
      "alpha =  59.99999999999999 ° \n",
      "beta =  59.99999999999999 ° \n",
      "gamma =  59.99999999999999 °\n"
     ]
    }
   ],
   "source": [
    "#création du lattice du réseau direct\n",
    "vect = structure.lattice\n",
    "matrice_vect = vect.matrix\n",
    "abc = vect.abc\n",
    "angle = vect.angles\n",
    "print(\"Vecteurs de bases du réseau direct :\\n\")\n",
    "print(\"a = \", matrice_vect[0])\n",
    "print(\"b = \", matrice_vect[1])\n",
    "print(\"c = \", matrice_vect[2],\"\\n\")\n",
    "\n",
    "#vecteurs de base du réseau direct\n",
    "print(\"Longueurs:\\n\")\n",
    "print(\"|a| = \",abc[0],\"Å\",\n",
    "    \"\\n|b| = \",abc[1],\"Å\",\n",
    "    \"\\n|c| = \",abc[2],\"Å\\n\")\n",
    "\n",
    "#angles du réseau direct\n",
    "print(\"Angles :\\n\")\n",
    "print(\"alpha = \",angle[0],\"°\",\n",
    "      \"\\nbeta = \",angle[1],\"°\",\n",
    "      \"\\ngamma = \",angle[2],\"°\")"
   ]
  },
  {
   "cell_type": "code",
   "execution_count": 100,
   "id": "dfed65df",
   "metadata": {},
   "outputs": [
    {
     "name": "stdout",
     "output_type": "stream",
     "text": [
      "Vecteurs de bases du réseau réciproque :\n",
      "\n",
      "a* =  [-0.90170582  0.90170582  0.90170582]\n",
      "b* =  [ 0.90170582 -0.90170582  0.90170582]\n",
      "c* =  [ 0.90170582  0.90170582 -0.90170582] \n",
      "\n",
      "Longueurs :\n",
      "\n",
      "|a*| =  4.9271978330537936 Å \n",
      "|b*| =  4.9271978330537936 Å \n",
      "|c*| =  4.9271978330537936 Å \n",
      "\n",
      "Angles :\n",
      "\n",
      "alpha* =  59.99999999999999 ° \n",
      "beta* =  59.99999999999999 ° \n",
      "gamma* =  59.99999999999999 °\n"
     ]
    }
   ],
   "source": [
    "#Vecteurs de base du réseau réciproque\n",
    "vect_recip = structure.lattice.reciprocal_lattice\n",
    "matrice_vect_recip = vect_recip.matrix\n",
    "abc_recip = vect_recip.abc\n",
    "angle_recip = vect_recip.angles\n",
    "print(\"Vecteurs de bases du réseau réciproque :\\n\")\n",
    "print(\"a* = \", matrice_vect_recip[0])\n",
    "print(\"b* = \", matrice_vect_recip[1])\n",
    "print(\"c* = \", matrice_vect_recip[2],\"\\n\")\n",
    "\n",
    "#vecteurs de base du réseau réciproque\n",
    "print(\"Longueurs :\\n\")\n",
    "print(\"|a*| = \",abc[0],\"Å\",\n",
    "    \"\\n|b*| = \",abc[1],\"Å\",\n",
    "    \"\\n|c*| = \",abc[2],\"Å \\n\")\n",
    "\n",
    "#angles du réseau réciproque\n",
    "print(\"Angles :\\n\")\n",
    "print(\"alpha* = \",angle[0],\"°\",\n",
    "    \"\\nbeta* = \",angle[1],\"°\",\n",
    "    \"\\ngamma* = \",angle[2],\"°\")"
   ]
  },
  {
   "cell_type": "code",
   "execution_count": 101,
   "id": "61d445a9",
   "metadata": {},
   "outputs": [
    {
     "name": "stdout",
     "output_type": "stream",
     "text": [
      "Type de maille :  cubic \n",
      "\n",
      "Système cristallin :  cubic \n",
      "\n",
      "Groupe ponctuel :  -43m\n"
     ]
    }
   ],
   "source": [
    "#type de maille \n",
    "maille = SpacegroupAnalyzer(structure).get_lattice_type()\n",
    "print(\"Type de maille : \", maille, \"\\n\")\n",
    "\n",
    "#type de système cristallin \n",
    "cristal = SpacegroupAnalyzer(structure).get_crystal_system()\n",
    "print(\"Système cristallin : \", cristal, \"\\n\")\n",
    "\n",
    "#goupe ponctuel \n",
    "ponctuel = struct.get_point_group_symbol()\n",
    "print(\"Groupe ponctuel : \",ponctuel)"
   ]
  }
 ],
 "metadata": {
  "kernelspec": {
   "display_name": "Python 3",
   "language": "python",
   "name": "python3"
  },
  "language_info": {
   "codemirror_mode": {
    "name": "ipython",
    "version": 3
   },
   "file_extension": ".py",
   "mimetype": "text/x-python",
   "name": "python",
   "nbconvert_exporter": "python",
   "pygments_lexer": "ipython3",
   "version": "3.6.8"
  }
 },
 "nbformat": 4,
 "nbformat_minor": 5
}
